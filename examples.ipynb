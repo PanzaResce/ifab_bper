{
 "cells": [
  {
   "cell_type": "code",
   "execution_count": null,
   "metadata": {},
   "outputs": [],
   "source": [
    "import requests\n",
    "\n",
    "API_URL = \"https://router.huggingface.co/together/v1/chat/completions\"\n",
    "headers = {\"Authorization\": \"Bearer YOUR_HF_KEY_HERE\"}\n",
    "\n",
    "def query(payload):\n",
    "    response = requests.post(API_URL, headers=headers, json=payload)\n",
    "    return response.json()\n",
    "\n",
    "agent1_res = query({\n",
    "    \"messages\": [\n",
    "        {\n",
    "            \"role\": \"user\",\n",
    "            \"content\": \"What is the capital of France? Respond me just with the name, without any additional explanation.\"\n",
    "        }\n",
    "    ],\n",
    "    \"max_tokens\": 500,\n",
    "    \"model\": \"mistralai/Mistral-7B-Instruct-v0.3\"\n",
    "})\n",
    "\n",
    "agent2_res = query({\n",
    "    \"messages\": [\n",
    "        {\n",
    "            \"role\": \"user\",\n",
    "            \"content\": f\"Is {agent1_res[\"choices\"][0][\"message\"][\"content\"]} the capital of France?\"\n",
    "        }\n",
    "    ],\n",
    "    \"max_tokens\": 500,\n",
    "    \"model\": \"mistralai/Mistral-7B-Instruct-v0.3\"\n",
    "})\n",
    "\n",
    "print(agent1_res[\"choices\"][0][\"message\"][\"content\"])\n",
    "print(agent2_res[\"choices\"][0][\"message\"][\"content\"])"
   ]
  }
 ],
 "metadata": {
  "kernelspec": {
   "display_name": "base",
   "language": "python",
   "name": "python3"
  },
  "language_info": {
   "codemirror_mode": {
    "name": "ipython",
    "version": 3
   },
   "file_extension": ".py",
   "mimetype": "text/x-python",
   "name": "python",
   "nbconvert_exporter": "python",
   "pygments_lexer": "ipython3",
   "version": "3.12.7"
  }
 },
 "nbformat": 4,
 "nbformat_minor": 2
}
