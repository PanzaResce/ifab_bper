{
 "cells": [
  {
   "cell_type": "code",
   "execution_count": 18,
   "metadata": {},
   "outputs": [
    {
     "name": "stdout",
     "output_type": "stream",
     "text": [
      "aivonn\n",
      "1681838c9ca0d4ea566d2684931d3f57\n"
     ]
    }
   ],
   "source": [
    "import os\n",
    "from APIKeys import Kaggle_API\n",
    "\n",
    "os.environ['KAGGLE_USERNAME'] = Kaggle_API[\"Username\"]\n",
    "os.environ['KAGGLE_KEY'] = Kaggle_API[\"Key\"]\n",
    "        \n",
    "print(os.environ.get('KAGGLE_USERNAME'))\n",
    "print(os.environ.get('KAGGLE_KEY'))\n"
   ]
  }
 ],
 "metadata": {
  "kernelspec": {
   "display_name": "Python 3",
   "language": "python",
   "name": "python3"
  },
  "language_info": {
   "codemirror_mode": {
    "name": "ipython",
    "version": 3
   },
   "file_extension": ".py",
   "mimetype": "text/x-python",
   "name": "python",
   "nbconvert_exporter": "python",
   "pygments_lexer": "ipython3",
   "version": "3.12.9"
  }
 },
 "nbformat": 4,
 "nbformat_minor": 2
}
